{
 "cells": [
  {
   "cell_type": "markdown",
   "id": "f661f855-15b8-4a76-83cd-a6834e14e708",
   "metadata": {},
   "source": [
    "1. Discuss the scenarios where multithreading is preferable to multiprocessing and scenarios where multiprocessing is a better choice."
   ]
  },
  {
   "cell_type": "markdown",
   "id": "7a93c8f7-7f28-4464-9e75-e1d653689ffc",
   "metadata": {},
   "source": [
    "Ans: When to Prefer Multithreading:\n",
    "For I/O-bound tasks—those that rely on outside resources (such as reading/writing files or network requests) rather than complex calculations—multithreading is typically preferable. Multithreading can efficiently manage several I/O-bound tasks since I/O operations typically don't use the CPU to its fullest extent.\n",
    "\n",
    "Best Scenarios for Multithreading:\n",
    "\n",
    "1. Web scraping: Managing several HTTP queries at once.\n",
    "2. I/O operations on files: reading and writing several files at once.\n",
    "3. Database access: Running several database queries, each of which may require waiting for a response from the server.\n",
    "4. Real-time apps: Those that require regular, minor modifications (such as a GUI application's user interface).\n",
    "\n",
    "When to Prefer Multiprocessing:\n",
    "For CPU-bound jobs that need a lot of calculation and can profit from multiple CPU cores operating in parallel, multiprocessing is more appropriate. The Global Interpreter Lock (GIL) in Python restricts multithreading for CPU-bound operations, increasing the efficiency of multiprocessing in these situations.\n",
    "\n",
    "Best Scenarios for Multiprocessing:\n",
    "\n",
    "1. Data processing and analysis: Activities such as simulations, mathematical calculations, and data conversions.\n",
    "2. Training machine learning: executing several models or handling huge datasets concurrently.\n",
    "3. Image and video processing: This includes actions such as resizing, compressing, or filtering photos or movies.\n",
    "4. Scientific simulations: intricate computations, such as simulations of physics or fluid dynamics\n",
    "\n"
   ]
  },
  {
   "cell_type": "markdown",
   "id": "d3dc8f38-fe12-4745-9c48-e3df7b31cd32",
   "metadata": {},
   "source": [
    "2. Describe what a process pool is and how it helps in managing multiple processes efficiently."
   ]
  },
  {
   "cell_type": "markdown",
   "id": "bdbec760-3241-4214-a813-38ace7bf36b7",
   "metadata": {},
   "source": [
    "Ans: A process pool is a group of worker processes that have already been created and are overseen by a pool manager. This enables the effective completion of tasks in parallel. In order to manage various processes without constantly building and deleting them, the pool manager regulates how tasks are distributed among these employees.\n",
    "\n",
    "How Process Pools Help in Managing Multiple Processes Efficiently:\n",
    "\n",
    "1. Decreased Overhead: The pool saves time and money by recycling a predetermined number of operations.\n",
    "2. Automatic Task Distribution: To ensure effective resource use, the pool manager automatically assigns tasks to available workers.\n",
    "3. Simplified Parallelization: You can assign tasks to employees without having to manually manage each process by using methods like map() and apply().\n",
    "Process pools simplify parallel processing, particularly when managing a large number of related jobs.\n",
    "\n",
    "Key Methods in a Process Pool:\n",
    "\n",
    "1. apply(): Performs an operation on a single input, similar to a single employee carrying out a task.\n",
    "2. map(): Like Python's map(), this method distributes each task to a different worker by running it across an iterable of inputs.\n",
    "3. starmap(): This function is similar to map(), but it accepts several arguments for every task.\n",
    "4. Run tasks asynchronously with apply_async() and map_async(), enabling the main program to continue while workers complete chores in the background.\n"
   ]
  },
  {
   "cell_type": "markdown",
   "id": "990c5e64-1343-4856-957c-6cad968a94ee",
   "metadata": {},
   "source": [
    "3. Explain what multiprocessing is and why it is used in Python programs."
   ]
  },
  {
   "cell_type": "markdown",
   "id": "f20286c9-34b8-4d5a-a0dd-6cd75032759f",
   "metadata": {},
   "source": [
    "Ans: Python multiprocessing is a mechanism that enables a program to run numerous processes at once, each with its own CPU core and memory space. By doing this, Python can achieve true parallelism for CPU-intensive activities by avoiding the Global Interpreter Lock (GIL), which limits threads to a single core.\n",
    "\n",
    "Why Multiprocessing is Used:\n",
    "\n",
    "1. Parallel Execution: By allowing Python applications to fully utilize several CPU cores, multiprocessing enhances performance for CPU-bound tasks such as simulations and data processing.\n",
    "2. Overcoming the GIL: Unlike multithreading, multiprocessing circumvents the limitations of the GIL because each process has its own interpreter and memory.\n",
    "3. Efficient Resource Use: Multiprocessing helps divide workload across available cores, accelerating task completion by executing distinct processes, each with its own resources.\n",
    "\n",
    "In summary, Python uses multiprocessing, which makes use of several cores, to execute CPU-intensive operations more quickly and effectively.\n",
    "    "
   ]
  },
  {
   "cell_type": "markdown",
   "id": "67b34804-317b-44df-8017-6e1b7f5d10ed",
   "metadata": {},
   "source": [
    "4. Write a Python program using multithreading where one thread adds numbers to a list, and another thread removes numbers from the list. Implement a mechanism to avoid race conditions using threading.Lock."
   ]
  },
  {
   "cell_type": "code",
   "execution_count": 8,
   "id": "e7523fd0-746f-4162-9ae6-fc128b4e5da3",
   "metadata": {},
   "outputs": [
    {
     "name": "stdout",
     "output_type": "stream",
     "text": [
      "Added 1 to list. Current list: [1]\n",
      "Removed 1 from list. Current list: []\n",
      "Added 2 to list. Current list: [2]\n",
      "Removed 2 from list. Current list: []\n",
      "Added 3 to list. Current list: [3]\n",
      "Added 4 to list. Current list: [3, 4]\n",
      "Removed 3 from list. Current list: [4]\n",
      "Added 5 to list. Current list: [4, 5]\n",
      "Removed 4 from list. Current list: [5]\n",
      "Removed 5 from list. Current list: []\n",
      "Final list: []\n"
     ]
    }
   ],
   "source": [
    "import threading\n",
    "import time\n",
    "\n",
    "# Shared list\n",
    "shared_list = []\n",
    "\n",
    "# Lock to prevent race conditions\n",
    "list_lock = threading.Lock()\n",
    "\n",
    "# Function to add numbers to the list\n",
    "def add_numbers():\n",
    "    for i in range(1, 6):\n",
    "        time.sleep(1)  # Simulate some processing time\n",
    "        with list_lock:  # Acquire the lock before modifying the list\n",
    "            shared_list.append(i)\n",
    "            print(f\"Added {i} to list. Current list: {shared_list}\")\n",
    "\n",
    "# Function to remove numbers from the list\n",
    "def remove_numbers():\n",
    "    for _ in range(5):\n",
    "        time.sleep(1.5)  # Simulate some processing time\n",
    "        with list_lock:  # Acquire the lock before modifying the list\n",
    "            if shared_list:\n",
    "                removed = shared_list.pop(0)\n",
    "                print(f\"Removed {removed} from list. Current list: {shared_list}\")\n",
    "\n",
    "# Create threads for adding and removing\n",
    "add_thread = threading.Thread(target=add_numbers)\n",
    "remove_thread = threading.Thread(target=remove_numbers)\n",
    "\n",
    "# Start the threads\n",
    "add_thread.start()\n",
    "remove_thread.start()\n",
    "\n",
    "# Wait for both threads to complete\n",
    "add_thread.join()\n",
    "remove_thread.join()\n",
    "\n",
    "print(\"Final list:\", shared_list)\n"
   ]
  },
  {
   "cell_type": "markdown",
   "id": "3908ae2a-8b99-46cb-9e3a-929dc20c9609",
   "metadata": {},
   "source": [
    "5. Describe the methods and tools available in Python for safely sharing data between threads and processes."
   ]
  },
  {
   "cell_type": "markdown",
   "id": "81d6d2c1-cfdd-4df5-a546-f00c82a7715a",
   "metadata": {},
   "source": [
    "Ans: For Multithreading:\n",
    "\n",
    "1. Lock: Guarantees that a shared resource can only be accessed by one thread at a time.\n",
    "2. RLock: The ability to re-acquire a lock if necessary for the same thread.\n",
    "3. Condition: Allows threads to pause until a condition is satisfied before proceeding.\n",
    "4. Event: Puts threads on hold until they get a signal to resume.\n",
    "5. Queue: A thread-safe FIFO structure that is perfect for producer-consumer jobs, it allows data to be sent between threads.\n",
    "\n",
    "For Multiprocessing:\n",
    "\n",
    "1. Queue: Enables processes to communicate messages to each other securely.\n",
    "2. Pipe: Two processes can communicate with each other in both directions.\n",
    "3. Manager: Produces shared items (such as dictionaries or lists) that are accessible by all processes.\n",
    "4. Value/Array: Integrated locking shared memory objects for arrays or single values.\n",
    "5. Lock: Stops several processes from gaining concurrent access to shared data.\n"
   ]
  },
  {
   "cell_type": "markdown",
   "id": "ab6d4c0a-1dd0-442c-a9a4-28bd4035a270",
   "metadata": {},
   "source": [
    "6. Discuss why it's crucial to handle exceptions in concurrent programs and the techniques available for doing so."
   ]
  },
  {
   "cell_type": "markdown",
   "id": "9f475599-9615-4301-827c-ec1eaf696686",
   "metadata": {},
   "source": [
    "Ans: Managing exceptions is essential in concurrent applications because mistakes in a single thread or process might cause resource leaks, incorrect data, or deadlocks, which can impair program stability generally. Inappropriate handling could result in shared resources being locked or failed tasks going unreported, which could cause the application to hang or crash without warning.\n",
    "\n",
    "Why Exception Handling is Crucial:\n",
    "\n",
    "1. Program stability makes ensuring that mistakes in a single thread or process don't bring down the entire program.\n",
    "2. Resource Management: Stops resource leaks, including open file handles or unprotected network connections.\n",
    "3. Data Consistency: Prevents shared data from undergoing partial changes, which may produce inaccurate findings.\n",
    "4. Deadlock Prevention: Guarantees that all shared resources, including locks, are released even in the event of an error.\n",
    "\n",
    "Techniques for Handling Exceptions in Concurrent Programs:\n",
    "\n",
    "1. Try-Except Blocks: To catch and manage exceptions, enclose crucial portions in try-except blocks. In threads, this is typical to prevent silence\n",
    "\n",
    "2. Handling Exceptions Specific to Threads:\n",
    "Exceptions in threads are not propagated to the main thread. In order to deal with this:\n",
    ". Turn on concurrent.futures.Exceptions are gathered by ThreadPoolExecutor and raised again when result() is accessed.\n",
    ". Save exceptions in a shared queue or list, then use the main thread to inspect them.\n",
    "\n",
    "3. Handling Process-Specific Exceptions:\n",
    ". Exceptions are segregated within each process during multiprocessing. Concurrent.futures should be used.ProcessPoolExecutor will record exceptions in a manner akin to that of threads.\n",
    ". A shared queue for gathering exceptions and informing the main process of them.\n",
    "\n",
    "4. Exception Logging: In concurrent settings, use logging to record exception data. In multithreaded or multiprocess systems, where exception details could otherwise be lost, this is quite useful.\n",
    "\n",
    "5. Concurrent.futures: ThreadPoolExecutor and ProcessPoolExecutor both have result() and exception() functions to facilitate the handling of exceptions. They offer a high-level API for task results and exception management.\n"
   ]
  },
  {
   "cell_type": "markdown",
   "id": "f8e7e41e-44be-4300-8133-89f723bfee5e",
   "metadata": {},
   "source": [
    "7. Create a program that uses a thread pool to calculate the factorial of numbers from 1 to 10 concurrently.\n",
    "Use concurrent.futures.ThreadPoolExecutor to manage the threads."
   ]
  },
  {
   "cell_type": "code",
   "execution_count": 15,
   "id": "da37aef8-cc81-4275-bdd1-3c1d9f21167d",
   "metadata": {},
   "outputs": [
    {
     "name": "stdout",
     "output_type": "stream",
     "text": [
      "Factorial of 1 is 1\n",
      "Factorial of 2 is 2\n",
      "Factorial of 3 is 6\n",
      "Factorial of 4 is 24\n",
      "Factorial of 5 is 120\n",
      "Factorial of 6 is 720\n",
      "Factorial of 7 is 5040\n",
      "Factorial of 8 is 40320\n",
      "Factorial of 9 is 362880\n",
      "Factorial of 10 is 3628800\n"
     ]
    }
   ],
   "source": [
    "from concurrent.futures import ThreadPoolExecutor\n",
    "import math\n",
    "\n",
    "# Function to calculate factorial\n",
    "def calculate_factorial(n):\n",
    "    return math.factorial(n)\n",
    "\n",
    "# List of numbers to calculate factorial\n",
    "numbers = range(1, 11)\n",
    "\n",
    "# Using ThreadPoolExecutor to manage the threads\n",
    "with ThreadPoolExecutor() as executor:\n",
    "    results = executor.map(calculate_factorial, numbers)\n",
    "\n",
    "# Print the results\n",
    "for num, result in zip(numbers, results):\n",
    "    print(f\"Factorial of {num} is {result}\")\n"
   ]
  },
  {
   "cell_type": "markdown",
   "id": "17e78bde-5f45-4635-b63b-fc99443cf59e",
   "metadata": {},
   "source": [
    "8. Create a Python program that uses multiprocessing.Pool to compute the square of numbers from 1 to 10 in parallel. Measure the time taken to perform this computation using a pool of different sizes (e.g., 2, 4, 8 processes)."
   ]
  },
  {
   "cell_type": "code",
   "execution_count": null,
   "id": "91ce3048-469e-48da-961a-9a389c102a60",
   "metadata": {},
   "outputs": [],
   "source": [
    "import multiprocessing\n",
    "import time\n",
    "\n",
    "# Function to compute the square of a number\n",
    "def compute_square(n):\n",
    "    return n * n\n",
    "\n",
    "# Main function to run the multiprocessing\n",
    "def main(pool_size):\n",
    "    # Create a pool of workers\n",
    "    with multiprocessing.Pool(processes=pool_size) as pool:\n",
    "        # Measure the start time\n",
    "        start_time = time.time()\n",
    "\n",
    "        # Compute squares in parallel\n",
    "        results = pool.map(compute_square, range(1, 11))\n",
    "\n",
    "        # Measure the end time\n",
    "        end_time = time.time()\n",
    "\n",
    "    # Print the results in a formatted way\n",
    "    print(f\"Using {pool_size} processes:\")\n",
    "    for num, square in zip(range(1, 11), results):\n",
    "        print(f\"Square of {num} is {square}\")\n",
    "    print(f\"Time Taken: {end_time - start_time:.4f} seconds\\n\")\n",
    "\n",
    "if __name__ == \"__main__\":\n",
    "    # Test with different pool sizes\n",
    "    for size in [2, 4, 8]:\n",
    "        main(size)\n"
   ]
  }
 ],
 "metadata": {
  "kernelspec": {
   "display_name": "Python 3 (ipykernel)",
   "language": "python",
   "name": "python3"
  },
  "language_info": {
   "codemirror_mode": {
    "name": "ipython",
    "version": 3
   },
   "file_extension": ".py",
   "mimetype": "text/x-python",
   "name": "python",
   "nbconvert_exporter": "python",
   "pygments_lexer": "ipython3",
   "version": "3.12.4"
  }
 },
 "nbformat": 4,
 "nbformat_minor": 5
}
